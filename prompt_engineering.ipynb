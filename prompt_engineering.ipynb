{
 "cells": [
  {
   "cell_type": "code",
   "execution_count": null,
   "id": "9b46b6bd",
   "metadata": {},
   "outputs": [
    {
     "data": {
      "text/plain": [
       "True"
      ]
     },
     "execution_count": 13,
     "metadata": {},
     "output_type": "execute_result"
    }
   ],
   "source": [
    "from openai import OpenAI\n",
    "from dotenv import load_dotenv\n",
    "import os\n",
    "import json\n",
    "load_dotenv()"
   ]
  },
  {
   "cell_type": "code",
   "execution_count": 9,
   "id": "9221c0da",
   "metadata": {},
   "outputs": [],
   "source": [
    "def get_chatbot_response(client, model_name, messages, temperature=0):\n",
    "    input_messages = []\n",
    "    for message in messages:\n",
    "        input_messages.append({\"role\": message[\"role\"], \"content\": message[\"content\"]})\n",
    "\n",
    "    response = client.chat.completions.create(\n",
    "        model=model_name,\n",
    "        messages=input_messages,\n",
    "        temperature=temperature,\n",
    "        top_p=0.8,\n",
    "        max_tokens=2000\n",
    "    ).choices[0].message.content\n",
    "\n",
    "    return response"
   ]
  },
  {
   "cell_type": "code",
   "execution_count": 31,
   "id": "c90c18c9",
   "metadata": {},
   "outputs": [],
   "source": [
    "client = OpenAI(\n",
    "    api_key=os.getenv(\"OPENAI_TOKEN\"),\n",
    "    base_url=os.getenv(\"OPENAI_CHATBOT_URL\")\n",
    ")\n",
    "model_name = os.getenv(\"MODEL_NAME\")"
   ]
  },
  {
   "cell_type": "markdown",
   "id": "4dfd5f46",
   "metadata": {},
   "source": [
    "# Get LLM Response"
   ]
  },
  {
   "cell_type": "code",
   "execution_count": 10,
   "id": "a528ca40",
   "metadata": {},
   "outputs": [],
   "source": [
    "messages = [{\"role\": \"user\", \"content\": \"What is the capital of France?\"}]\n",
    "response = get_chatbot_response(client, model_name, messages)"
   ]
  },
  {
   "cell_type": "code",
   "execution_count": 11,
   "id": "deccf655",
   "metadata": {},
   "outputs": [
    {
     "data": {
      "text/plain": [
       "'The capital of France is Paris.'"
      ]
     },
     "execution_count": 11,
     "metadata": {},
     "output_type": "execute_result"
    }
   ],
   "source": [
    "response"
   ]
  },
  {
   "cell_type": "markdown",
   "id": "b16abeee",
   "metadata": {},
   "source": [
    "# Prompt Engineering"
   ]
  },
  {
   "cell_type": "markdown",
   "id": "9139f89f",
   "metadata": {},
   "source": [
    "## Structured output"
   ]
  },
  {
   "cell_type": "code",
   "execution_count": 12,
   "id": "b0dd0c60",
   "metadata": {},
   "outputs": [
    {
     "name": "stdout",
     "output_type": "stream",
     "text": [
      "[\n",
      "    {\n",
      "        \"country\": \"France\",\n",
      "        \"capital\": \"Paris\"\n",
      "    }\n",
      "]\n"
     ]
    }
   ],
   "source": [
    "system_prompt = \"\"\"\n",
    "You are a helpful assistant that answer questions about capital of countries\n",
    "\n",
    "Your output should be in a structured json format exactly like the one below. You are not allowed to write anything other than the json object:\n",
    "[\n",
    "{\n",
    "    \"country\": the country that you will get the capital of\n",
    "    \"capital\": the capital of the country stated\n",
    "}\n",
    "]\n",
    "\"\"\"\n",
    "\n",
    "messages = [{\"role\": \"system\", \"content\": system_prompt}]\n",
    "messages.append({\"role\": \"user\", \"content\": \"What is the capital of France?\"})\n",
    "response = get_chatbot_response(client, model_name, messages)\n",
    "print(response)"
   ]
  },
  {
   "cell_type": "code",
   "execution_count": 14,
   "id": "4882eadc",
   "metadata": {},
   "outputs": [
    {
     "data": {
      "text/plain": [
       "str"
      ]
     },
     "execution_count": 14,
     "metadata": {},
     "output_type": "execute_result"
    }
   ],
   "source": [
    "type(response)"
   ]
  },
  {
   "cell_type": "code",
   "execution_count": 15,
   "id": "b0b19a8f",
   "metadata": {},
   "outputs": [
    {
     "data": {
      "text/plain": [
       "[{'country': 'France', 'capital': 'Paris'}]"
      ]
     },
     "execution_count": 15,
     "metadata": {},
     "output_type": "execute_result"
    }
   ],
   "source": [
    "json_response = json.loads(response)\n",
    "json_response"
   ]
  },
  {
   "cell_type": "code",
   "execution_count": 18,
   "id": "4022415f",
   "metadata": {},
   "outputs": [
    {
     "data": {
      "text/plain": [
       "(dict, 'Paris')"
      ]
     },
     "execution_count": 18,
     "metadata": {},
     "output_type": "execute_result"
    }
   ],
   "source": [
    "type(json_response[0]),json_response[0]['capital']"
   ]
  },
  {
   "cell_type": "markdown",
   "id": "ac17465e",
   "metadata": {},
   "source": [
    "## Input structuring"
   ]
  },
  {
   "cell_type": "code",
   "execution_count": 20,
   "id": "6ad87b42",
   "metadata": {},
   "outputs": [
    {
     "name": "stdout",
     "output_type": "stream",
     "text": [
      "[\n",
      "    {\n",
      "        \"country\": \"Italy\",\n",
      "        \"capital\": \"Rome\"\n",
      "    },\n",
      "    {\n",
      "        \"country\": \"Germany\",\n",
      "        \"capital\": \"Berlin\"\n",
      "    },\n",
      "    {\n",
      "        \"country\": \"France\",\n",
      "        \"capital\": \"Paris\"\n",
      "    }\n",
      "]\n"
     ]
    }
   ],
   "source": [
    "user_input = \"\"\"\n",
    "Get me the capital of the following countries:\n",
    "```\n",
    "1. Italy\n",
    "2. Germany\n",
    "3. France\n",
    "```\n",
    "\"\"\"\n",
    "\n",
    "messages = [{\"role\": \"system\", \"content\": system_prompt}]\n",
    "messages.append({\"role\": \"user\", \"content\": user_input})\n",
    "response = get_chatbot_response(client, model_name, messages)\n",
    "print(response)"
   ]
  },
  {
   "cell_type": "markdown",
   "id": "7def2a5c",
   "metadata": {},
   "source": [
    "## Chain of thought"
   ]
  },
  {
   "cell_type": "code",
   "execution_count": 23,
   "id": "dcdded50",
   "metadata": {},
   "outputs": [
    {
     "name": "stdout",
     "output_type": "stream",
     "text": [
      "{\n",
      "    \"result\": 300000.0\n",
      "}\n"
     ]
    }
   ],
   "source": [
    "user_prompt = \"\"\"\n",
    "Calculate the result of this equation: 259/2*8654+91072*33-12971\n",
    "\n",
    "Your output should be in a structured json format exactly like the one below. You are not allowed to write anything other than the json object:\n",
    "{\n",
    "    \"result\": the final number resulted from calculating the equation above\n",
    "}\n",
    "\"\"\"\n",
    "\n",
    "messages = [{\"role\": \"user\", \"content\": user_prompt}]\n",
    "response = get_chatbot_response(client, model_name, messages)\n",
    "print(response)"
   ]
  },
  {
   "cell_type": "code",
   "execution_count": 22,
   "id": "47638683",
   "metadata": {},
   "outputs": [
    {
     "data": {
      "text/plain": [
       "4113098.0"
      ]
     },
     "execution_count": 22,
     "metadata": {},
     "output_type": "execute_result"
    }
   ],
   "source": [
    "259/2*8654+91072*33-12971"
   ]
  },
  {
   "cell_type": "code",
   "execution_count": 24,
   "id": "c440a986",
   "metadata": {},
   "outputs": [
    {
     "name": "stdout",
     "output_type": "stream",
     "text": [
      "{\n",
      "    \"steps\": [\n",
      "        \"Start with the equation: 259/2*8654+91072*33-12971\",\n",
      "        \"First, perform the division: 259/2 = 129.5\",\n",
      "        \"Now substitute back into the equation: 129.5*8654+91072*33-12971\",\n",
      "        \"Next, perform the multiplication: 129.5*8654 = 1111963\",\n",
      "        \"Now substitute back into the equation: 1111963 + 91072*33 - 12971\",\n",
      "        \"Next, perform the multiplication: 91072*33 = 3000366\",\n",
      "        \"Now substitute back into the equation: 1111963 + 3000366 - 12971\",\n",
      "        \"Now perform the addition: 1111963 + 3000366 = 4112329\",\n",
      "        \"Now substitute back into the equation: 4112329 - 12971\",\n",
      "        \"Finally, perform the subtraction: 4112329 - 12971 = 4109358\"\n",
      "    ],\n",
      "    \"result\": 4109358\n",
      "}\n"
     ]
    }
   ],
   "source": [
    "user_prompt = \"\"\"\n",
    "Calculate the result of this equation: 259/2*8654+91072*33-12971\n",
    "\n",
    "Your output should be in a structured json format exactly like the one below. You are not allowed to write anything other than the json object:\n",
    "{\n",
    "    \"steps\": this where you solve the equation bit by bit following the PEMDAS order of operations. You need to show your work and calculate each step leading to the final result. Feel free to write in free text\n",
    "    \"result\": the final number resulted from calculating the equation above\n",
    "}\n",
    "\"\"\"\n",
    "\n",
    "messages = [{\"role\": \"user\", \"content\": user_prompt}]\n",
    "response = get_chatbot_response(client, model_name, messages)\n",
    "print(response)"
   ]
  },
  {
   "cell_type": "markdown",
   "id": "3e95aaf7",
   "metadata": {},
   "source": [
    "# Retrieval-Augmented Generation"
   ]
  },
  {
   "cell_type": "code",
   "execution_count": 27,
   "id": "0fb2d14e",
   "metadata": {},
   "outputs": [
    {
     "name": "stdout",
     "output_type": "stream",
     "text": [
      "As of my last update in October 2023, Apple had not officially released the iPhone 16, so I can't provide specific details about its features or specifications. However, Apple typically announces new iPhone models in September each year, so you may want to check the latest news or Apple's official website for the most current information on the iPhone 16, including any new features, design changes, camera improvements, and performance enhancements. If you have any other questions or need information on previous iPhone models, feel free to ask!\n"
     ]
    }
   ],
   "source": [
    "user_prompt = \"\"\"\n",
    "What's new in iphone 16?\n",
    "\"\"\"\n",
    "\n",
    "messages = [{\"role\": \"user\", \"content\": user_prompt}]\n",
    "response = get_chatbot_response(client, model_name, messages)\n",
    "print(response)"
   ]
  },
  {
   "cell_type": "code",
   "execution_count": 28,
   "id": "82ae636a",
   "metadata": {},
   "outputs": [],
   "source": [
    "iphone_16 = \"\"\"\n",
    "Iphone 16 is the latest smartphone from Apple, featuring a sleek design, improved camera capabilities, and enhanced performance. It comes with the new A17 chip, which provides faster processing speeds and better energy efficiency. The camera system has been upgraded with advanced computational photography features, allowing for stunning low-light photos and improved video recording capabilities. Additionally, the iPhone 16 supports 5G connectivity for faster internet speeds and has a longer-lasting battery life compared to its predecessors.\n",
    "\"\"\""
   ]
  },
  {
   "cell_type": "code",
   "execution_count": 30,
   "id": "09e036fc",
   "metadata": {},
   "outputs": [
    {
     "name": "stdout",
     "output_type": "stream",
     "text": [
      "The iPhone 16 introduces several notable features and improvements:\n",
      "\n",
      "1. **A17 Chip**: The new A17 chip enhances processing speeds and energy efficiency, providing a smoother user experience and better performance for demanding applications.\n",
      "\n",
      "2. **Camera Upgrades**: The camera system has been significantly improved with advanced computational photography features, enabling stunning low-light photography and enhanced video recording capabilities.\n",
      "\n",
      "3. **5G Connectivity**: The iPhone 16 supports 5G, allowing for faster internet speeds and improved connectivity.\n",
      "\n",
      "4. **Battery Life**: The device boasts a longer-lasting battery compared to previous models, ensuring extended usage without frequent recharging.\n",
      "\n",
      "5. **Sleek Design**: The iPhone 16 features a modern and sleek design, continuing Apple's trend of aesthetic innovation.\n",
      "\n",
      "These enhancements make the iPhone 16 a compelling choice for users looking for cutting-edge technology and improved performance in a smartphone.\n"
     ]
    }
   ],
   "source": [
    "user_prompt = f\"\"\"\n",
    "{iphone_16}\n",
    "\n",
    "What's new in iphone 16?\n",
    "\"\"\"\n",
    "\n",
    "messages = [{\"role\": \"user\", \"content\": user_prompt}]\n",
    "response = get_chatbot_response(client, model_name, messages)\n",
    "print(response)"
   ]
  },
  {
   "cell_type": "code",
   "execution_count": null,
   "id": "dc29709a",
   "metadata": {},
   "outputs": [],
   "source": [
    "motorcycle -- 2\n",
    "car        -- 3\n",
    "banana     -- 45\n",
    "\n",
    "car-motorcycle = 1\n",
    "banana-car = 42"
   ]
  },
  {
   "cell_type": "code",
   "execution_count": 32,
   "id": "99085f42",
   "metadata": {},
   "outputs": [],
   "source": [
    "output = client.embeddings.create(\n",
    "    input=user_prompt,\n",
    "    model=\"text-embedding-3-small\"\n",
    ")"
   ]
  }
 ],
 "metadata": {
  "kernelspec": {
   "display_name": ".csc",
   "language": "python",
   "name": "python3"
  },
  "language_info": {
   "codemirror_mode": {
    "name": "ipython",
    "version": 3
   },
   "file_extension": ".py",
   "mimetype": "text/x-python",
   "name": "python",
   "nbconvert_exporter": "python",
   "pygments_lexer": "ipython3",
   "version": "3.11.4"
  }
 },
 "nbformat": 4,
 "nbformat_minor": 5
}
